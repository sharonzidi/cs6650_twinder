{
 "cells": [
  {
   "cell_type": "code",
   "execution_count": 1,
   "id": "32bee2d4",
   "metadata": {},
   "outputs": [],
   "source": [
    "import pandas as pd"
   ]
  },
  {
   "cell_type": "code",
   "execution_count": 2,
   "id": "9d7f26b2",
   "metadata": {},
   "outputs": [],
   "source": [
    "df = pd.read_csv('/Users/sharonxia/github/cs6650_twinder/twinder_client/100_threads_results.csv')"
   ]
  },
  {
   "cell_type": "code",
   "execution_count": 3,
   "id": "0fdbf8a1",
   "metadata": {
    "scrolled": false
   },
   "outputs": [
    {
     "data": {
      "text/html": [
       "<div>\n",
       "<style scoped>\n",
       "    .dataframe tbody tr th:only-of-type {\n",
       "        vertical-align: middle;\n",
       "    }\n",
       "\n",
       "    .dataframe tbody tr th {\n",
       "        vertical-align: top;\n",
       "    }\n",
       "\n",
       "    .dataframe thead th {\n",
       "        text-align: right;\n",
       "    }\n",
       "</style>\n",
       "<table border=\"1\" class=\"dataframe\">\n",
       "  <thead>\n",
       "    <tr style=\"text-align: right;\">\n",
       "      <th></th>\n",
       "      <th>start_time</th>\n",
       "      <th>end_time</th>\n",
       "      <th>latency</th>\n",
       "      <th>request_type</th>\n",
       "      <th>response_code</th>\n",
       "    </tr>\n",
       "  </thead>\n",
       "  <tbody>\n",
       "    <tr>\n",
       "      <th>0</th>\n",
       "      <td>1676448465398</td>\n",
       "      <td>1676448465869</td>\n",
       "      <td>471</td>\n",
       "      <td>POST</td>\n",
       "      <td>201</td>\n",
       "    </tr>\n",
       "    <tr>\n",
       "      <th>1</th>\n",
       "      <td>1676448465394</td>\n",
       "      <td>1676448465869</td>\n",
       "      <td>475</td>\n",
       "      <td>POST</td>\n",
       "      <td>201</td>\n",
       "    </tr>\n",
       "    <tr>\n",
       "      <th>2</th>\n",
       "      <td>1676448465426</td>\n",
       "      <td>1676448465870</td>\n",
       "      <td>444</td>\n",
       "      <td>POST</td>\n",
       "      <td>201</td>\n",
       "    </tr>\n",
       "    <tr>\n",
       "      <th>3</th>\n",
       "      <td>1676448465397</td>\n",
       "      <td>1676448465869</td>\n",
       "      <td>472</td>\n",
       "      <td>POST</td>\n",
       "      <td>201</td>\n",
       "    </tr>\n",
       "    <tr>\n",
       "      <th>4</th>\n",
       "      <td>1676448465431</td>\n",
       "      <td>1676448465870</td>\n",
       "      <td>439</td>\n",
       "      <td>POST</td>\n",
       "      <td>201</td>\n",
       "    </tr>\n",
       "    <tr>\n",
       "      <th>...</th>\n",
       "      <td>...</td>\n",
       "      <td>...</td>\n",
       "      <td>...</td>\n",
       "      <td>...</td>\n",
       "      <td>...</td>\n",
       "    </tr>\n",
       "    <tr>\n",
       "      <th>499995</th>\n",
       "      <td>1676448683567</td>\n",
       "      <td>1676448683621</td>\n",
       "      <td>54</td>\n",
       "      <td>POST</td>\n",
       "      <td>201</td>\n",
       "    </tr>\n",
       "    <tr>\n",
       "      <th>499996</th>\n",
       "      <td>1676448683566</td>\n",
       "      <td>1676448683621</td>\n",
       "      <td>55</td>\n",
       "      <td>POST</td>\n",
       "      <td>201</td>\n",
       "    </tr>\n",
       "    <tr>\n",
       "      <th>499997</th>\n",
       "      <td>1676448683567</td>\n",
       "      <td>1676448683622</td>\n",
       "      <td>55</td>\n",
       "      <td>POST</td>\n",
       "      <td>201</td>\n",
       "    </tr>\n",
       "    <tr>\n",
       "      <th>499998</th>\n",
       "      <td>1676448683567</td>\n",
       "      <td>1676448683622</td>\n",
       "      <td>55</td>\n",
       "      <td>POST</td>\n",
       "      <td>201</td>\n",
       "    </tr>\n",
       "    <tr>\n",
       "      <th>499999</th>\n",
       "      <td>1676448683567</td>\n",
       "      <td>1676448683622</td>\n",
       "      <td>55</td>\n",
       "      <td>POST</td>\n",
       "      <td>201</td>\n",
       "    </tr>\n",
       "  </tbody>\n",
       "</table>\n",
       "<p>500000 rows × 5 columns</p>\n",
       "</div>"
      ],
      "text/plain": [
       "           start_time       end_time  latency request_type  response_code\n",
       "0       1676448465398  1676448465869      471         POST            201\n",
       "1       1676448465394  1676448465869      475         POST            201\n",
       "2       1676448465426  1676448465870      444         POST            201\n",
       "3       1676448465397  1676448465869      472         POST            201\n",
       "4       1676448465431  1676448465870      439         POST            201\n",
       "...               ...            ...      ...          ...            ...\n",
       "499995  1676448683567  1676448683621       54         POST            201\n",
       "499996  1676448683566  1676448683621       55         POST            201\n",
       "499997  1676448683567  1676448683622       55         POST            201\n",
       "499998  1676448683567  1676448683622       55         POST            201\n",
       "499999  1676448683567  1676448683622       55         POST            201\n",
       "\n",
       "[500000 rows x 5 columns]"
      ]
     },
     "execution_count": 3,
     "metadata": {},
     "output_type": "execute_result"
    }
   ],
   "source": [
    "df"
   ]
  },
  {
   "cell_type": "code",
   "execution_count": 4,
   "id": "abc5f670",
   "metadata": {},
   "outputs": [
    {
     "data": {
      "text/html": [
       "<div>\n",
       "<style scoped>\n",
       "    .dataframe tbody tr th:only-of-type {\n",
       "        vertical-align: middle;\n",
       "    }\n",
       "\n",
       "    .dataframe tbody tr th {\n",
       "        vertical-align: top;\n",
       "    }\n",
       "\n",
       "    .dataframe thead th {\n",
       "        text-align: right;\n",
       "    }\n",
       "</style>\n",
       "<table border=\"1\" class=\"dataframe\">\n",
       "  <thead>\n",
       "    <tr style=\"text-align: right;\">\n",
       "      <th></th>\n",
       "      <th>start_time</th>\n",
       "      <th>end_time</th>\n",
       "    </tr>\n",
       "  </thead>\n",
       "  <tbody>\n",
       "    <tr>\n",
       "      <th>0</th>\n",
       "      <td>1676448465398</td>\n",
       "      <td>1676448465869</td>\n",
       "    </tr>\n",
       "    <tr>\n",
       "      <th>1</th>\n",
       "      <td>1676448465394</td>\n",
       "      <td>1676448465869</td>\n",
       "    </tr>\n",
       "    <tr>\n",
       "      <th>2</th>\n",
       "      <td>1676448465426</td>\n",
       "      <td>1676448465870</td>\n",
       "    </tr>\n",
       "    <tr>\n",
       "      <th>3</th>\n",
       "      <td>1676448465397</td>\n",
       "      <td>1676448465869</td>\n",
       "    </tr>\n",
       "    <tr>\n",
       "      <th>4</th>\n",
       "      <td>1676448465431</td>\n",
       "      <td>1676448465870</td>\n",
       "    </tr>\n",
       "    <tr>\n",
       "      <th>...</th>\n",
       "      <td>...</td>\n",
       "      <td>...</td>\n",
       "    </tr>\n",
       "    <tr>\n",
       "      <th>499995</th>\n",
       "      <td>1676448683567</td>\n",
       "      <td>1676448683621</td>\n",
       "    </tr>\n",
       "    <tr>\n",
       "      <th>499996</th>\n",
       "      <td>1676448683566</td>\n",
       "      <td>1676448683621</td>\n",
       "    </tr>\n",
       "    <tr>\n",
       "      <th>499997</th>\n",
       "      <td>1676448683567</td>\n",
       "      <td>1676448683622</td>\n",
       "    </tr>\n",
       "    <tr>\n",
       "      <th>499998</th>\n",
       "      <td>1676448683567</td>\n",
       "      <td>1676448683622</td>\n",
       "    </tr>\n",
       "    <tr>\n",
       "      <th>499999</th>\n",
       "      <td>1676448683567</td>\n",
       "      <td>1676448683622</td>\n",
       "    </tr>\n",
       "  </tbody>\n",
       "</table>\n",
       "<p>500000 rows × 2 columns</p>\n",
       "</div>"
      ],
      "text/plain": [
       "           start_time       end_time\n",
       "0       1676448465398  1676448465869\n",
       "1       1676448465394  1676448465869\n",
       "2       1676448465426  1676448465870\n",
       "3       1676448465397  1676448465869\n",
       "4       1676448465431  1676448465870\n",
       "...               ...            ...\n",
       "499995  1676448683567  1676448683621\n",
       "499996  1676448683566  1676448683621\n",
       "499997  1676448683567  1676448683622\n",
       "499998  1676448683567  1676448683622\n",
       "499999  1676448683567  1676448683622\n",
       "\n",
       "[500000 rows x 2 columns]"
      ]
     },
     "execution_count": 4,
     "metadata": {},
     "output_type": "execute_result"
    }
   ],
   "source": [
    "df.loc[0:499999, \"start_time\":\"end_time\"]"
   ]
  },
  {
   "cell_type": "code",
   "execution_count": 5,
   "id": "6d841d22",
   "metadata": {},
   "outputs": [],
   "source": [
    "#cnt = len(df[df[\"end_time\"] < df[\"start_time\"][0] + 1000]) "
   ]
  },
  {
   "cell_type": "code",
   "execution_count": 6,
   "id": "4017f569",
   "metadata": {},
   "outputs": [],
   "source": [
    "cnt = 0"
   ]
  },
  {
   "cell_type": "code",
   "execution_count": 7,
   "id": "22f7b141",
   "metadata": {},
   "outputs": [],
   "source": [
    "dict = {}\n",
    "i = 0\n",
    "j = 0\n",
    "offset = 1000\n",
    "start = df[\"start_time\"][0] "
   ]
  },
  {
   "cell_type": "code",
   "execution_count": 8,
   "id": "ae229ddf",
   "metadata": {},
   "outputs": [
    {
     "data": {
      "text/plain": [
       "1676448465398"
      ]
     },
     "execution_count": 8,
     "metadata": {},
     "output_type": "execute_result"
    }
   ],
   "source": [
    "start"
   ]
  },
  {
   "cell_type": "code",
   "execution_count": 9,
   "id": "4294abcb",
   "metadata": {},
   "outputs": [
    {
     "data": {
      "text/plain": [
       "0"
      ]
     },
     "execution_count": 9,
     "metadata": {},
     "output_type": "execute_result"
    }
   ],
   "source": [
    "j"
   ]
  },
  {
   "cell_type": "code",
   "execution_count": 10,
   "id": "ac43563c",
   "metadata": {},
   "outputs": [
    {
     "data": {
      "text/plain": [
       "1676448465869"
      ]
     },
     "execution_count": 10,
     "metadata": {},
     "output_type": "execute_result"
    }
   ],
   "source": [
    "df[\"end_time\"][j]"
   ]
  },
  {
   "cell_type": "code",
   "execution_count": 11,
   "id": "003ef678",
   "metadata": {
    "scrolled": false
   },
   "outputs": [],
   "source": [
    "while j < len(df) - 1:\n",
    "    j = j+1\n",
    "    if df[\"end_time\"][j] > start + offset: \n",
    "        cnt = len(df[(df[\"end_time\"] < start + offset) & (df[\"end_time\"] >= start)])\n",
    "        dict[i+1] = cnt \n",
    "        start = df[\"end_time\"][j]\n"
   ]
  },
  {
   "cell_type": "code",
   "execution_count": 12,
   "id": "c205bf3a",
   "metadata": {},
   "outputs": [
    {
     "data": {
      "text/plain": [
       "500000"
      ]
     },
     "execution_count": 12,
     "metadata": {},
     "output_type": "execute_result"
    }
   ],
   "source": [
    "len(df)"
   ]
  },
  {
   "cell_type": "code",
   "execution_count": 13,
   "id": "f5ad9747",
   "metadata": {},
   "outputs": [
    {
     "data": {
      "text/plain": [
       "499999"
      ]
     },
     "execution_count": 13,
     "metadata": {},
     "output_type": "execute_result"
    }
   ],
   "source": [
    "j"
   ]
  },
  {
   "cell_type": "code",
   "execution_count": 14,
   "id": "ff09109b",
   "metadata": {},
   "outputs": [
    {
     "data": {
      "text/plain": [
       "1676448683622"
      ]
     },
     "execution_count": 14,
     "metadata": {},
     "output_type": "execute_result"
    }
   ],
   "source": [
    "df[\"end_time\"][j]"
   ]
  },
  {
   "cell_type": "code",
   "execution_count": 15,
   "id": "100697ae",
   "metadata": {},
   "outputs": [
    {
     "data": {
      "text/plain": [
       "{1: 2274}"
      ]
     },
     "execution_count": 15,
     "metadata": {},
     "output_type": "execute_result"
    }
   ],
   "source": [
    "dict"
   ]
  },
  {
   "cell_type": "code",
   "execution_count": 16,
   "id": "fa285778",
   "metadata": {},
   "outputs": [
    {
     "name": "stdout",
     "output_type": "stream",
     "text": [
      "total second: 229\n",
      "num_of_request_per_sec_list: [1254, 2188, 2168, 2107, 2160, 1975, 2250, 2207, 2247, 2210, 2198, 2216, 2273, 2192, 2287, 2260, 2179, 2143, 2135, 2236, 2167, 2175, 2273, 2182, 2232, 2134, 2137, 2192, 2177, 2154, 2236, 2280, 2205, 2242, 2233, 2181, 2282, 2209, 2122, 2195, 2092, 2327, 2243, 2141, 2250, 2154, 2152, 2139, 2184, 2216, 2204, 2243, 2157, 2213, 2230, 2192, 2241, 2185, 2215, 2290, 2280, 2222, 2276, 2256, 2228, 2284, 2275, 2292, 2228, 2156, 2291, 2268, 2255, 2284, 2227, 2301, 2220, 2296, 2272, 2241, 2106, 2128, 2201, 2180, 2230, 2202, 2200, 2150, 2158, 2184, 2180, 2150, 2172, 2172, 2225, 2178, 2253, 2237, 2193, 2237, 2198, 2227, 2218, 2161, 2174, 2165, 2216, 2128, 2265, 2215, 2178, 2225, 2183, 2177, 2161, 2173, 2220, 2235, 2163, 2234, 2174, 2139, 2213, 2217, 2213, 2159, 2156, 2174, 2201, 2175, 2207, 2196, 2269, 2151, 2151, 2211, 2253, 2165, 2200, 2087, 2205, 2148, 2207, 2260, 2210, 2233, 2157, 2232, 2194, 2242, 2169, 2158, 2161, 2166, 2211, 2187, 2281, 2199, 2289, 2195, 2209, 2245, 2257, 2282, 2202, 2191, 2130, 2195, 2142, 2129, 2153, 2109, 2193, 2152, 2254, 2245, 2136, 2161, 2153, 2204, 2289, 2132, 2226, 2161, 2170, 2159, 2145, 2171, 2157, 2256, 2159, 2244, 2160, 2055, 2147, 2144, 2179, 2202, 2241, 2220, 2160, 2160, 2211, 2197, 2147, 2141, 2198, 2180, 2156, 2119, 2225, 2161, 2159, 2191, 2156, 2221, 2265, 1857, 2156, 2234, 2181, 2153, 2182, 2209, 2175, 2125, 2142, 2248, 352]\n",
      "500000\n"
     ]
    }
   ],
   "source": [
    "start_times = list(df['start_time'])\n",
    "end_times = list(df['end_time'])\n",
    "\n",
    "lst = [[]]\n",
    "start = start_times[0]\n",
    "for i, x in enumerate(start_times):\n",
    "    if start_times[i] - start <= 1000 and end_times[i] - start <= 1000:\n",
    "        lst[-1].append(x)\n",
    "    else:\n",
    "        lst.append([x])\n",
    "        start = x\n",
    "        \n",
    "print('total second:', len(lst))\n",
    "num_of_request_per_sec_list = [len(second_list) for second_list in lst]\n",
    "print('num_of_request_per_sec_list:', num_of_request_per_sec_list)\n",
    "print(sum([len(second_list) for second_list in lst]))"
   ]
  },
  {
   "cell_type": "code",
   "execution_count": 17,
   "id": "8f74ecff",
   "metadata": {},
   "outputs": [],
   "source": [
    "second_list = ([num for num in range(0, len(lst))])"
   ]
  },
  {
   "cell_type": "code",
   "execution_count": 18,
   "id": "496744ba",
   "metadata": {},
   "outputs": [
    {
     "name": "stdout",
     "output_type": "stream",
     "text": [
      "[0, 1, 2, 3, 4, 5, 6, 7, 8, 9, 10, 11, 12, 13, 14, 15, 16, 17, 18, 19, 20, 21, 22, 23, 24, 25, 26, 27, 28, 29, 30, 31, 32, 33, 34, 35, 36, 37, 38, 39, 40, 41, 42, 43, 44, 45, 46, 47, 48, 49, 50, 51, 52, 53, 54, 55, 56, 57, 58, 59, 60, 61, 62, 63, 64, 65, 66, 67, 68, 69, 70, 71, 72, 73, 74, 75, 76, 77, 78, 79, 80, 81, 82, 83, 84, 85, 86, 87, 88, 89, 90, 91, 92, 93, 94, 95, 96, 97, 98, 99, 100, 101, 102, 103, 104, 105, 106, 107, 108, 109, 110, 111, 112, 113, 114, 115, 116, 117, 118, 119, 120, 121, 122, 123, 124, 125, 126, 127, 128, 129, 130, 131, 132, 133, 134, 135, 136, 137, 138, 139, 140, 141, 142, 143, 144, 145, 146, 147, 148, 149, 150, 151, 152, 153, 154, 155, 156, 157, 158, 159, 160, 161, 162, 163, 164, 165, 166, 167, 168, 169, 170, 171, 172, 173, 174, 175, 176, 177, 178, 179, 180, 181, 182, 183, 184, 185, 186, 187, 188, 189, 190, 191, 192, 193, 194, 195, 196, 197, 198, 199, 200, 201, 202, 203, 204, 205, 206, 207, 208, 209, 210, 211, 212, 213, 214, 215, 216, 217, 218, 219, 220, 221, 222, 223, 224, 225, 226, 227, 228]\n",
      "[1254, 2188, 2168, 2107, 2160, 1975, 2250, 2207, 2247, 2210, 2198, 2216, 2273, 2192, 2287, 2260, 2179, 2143, 2135, 2236, 2167, 2175, 2273, 2182, 2232, 2134, 2137, 2192, 2177, 2154, 2236, 2280, 2205, 2242, 2233, 2181, 2282, 2209, 2122, 2195, 2092, 2327, 2243, 2141, 2250, 2154, 2152, 2139, 2184, 2216, 2204, 2243, 2157, 2213, 2230, 2192, 2241, 2185, 2215, 2290, 2280, 2222, 2276, 2256, 2228, 2284, 2275, 2292, 2228, 2156, 2291, 2268, 2255, 2284, 2227, 2301, 2220, 2296, 2272, 2241, 2106, 2128, 2201, 2180, 2230, 2202, 2200, 2150, 2158, 2184, 2180, 2150, 2172, 2172, 2225, 2178, 2253, 2237, 2193, 2237, 2198, 2227, 2218, 2161, 2174, 2165, 2216, 2128, 2265, 2215, 2178, 2225, 2183, 2177, 2161, 2173, 2220, 2235, 2163, 2234, 2174, 2139, 2213, 2217, 2213, 2159, 2156, 2174, 2201, 2175, 2207, 2196, 2269, 2151, 2151, 2211, 2253, 2165, 2200, 2087, 2205, 2148, 2207, 2260, 2210, 2233, 2157, 2232, 2194, 2242, 2169, 2158, 2161, 2166, 2211, 2187, 2281, 2199, 2289, 2195, 2209, 2245, 2257, 2282, 2202, 2191, 2130, 2195, 2142, 2129, 2153, 2109, 2193, 2152, 2254, 2245, 2136, 2161, 2153, 2204, 2289, 2132, 2226, 2161, 2170, 2159, 2145, 2171, 2157, 2256, 2159, 2244, 2160, 2055, 2147, 2144, 2179, 2202, 2241, 2220, 2160, 2160, 2211, 2197, 2147, 2141, 2198, 2180, 2156, 2119, 2225, 2161, 2159, 2191, 2156, 2221, 2265, 1857, 2156, 2234, 2181, 2153, 2182, 2209, 2175, 2125, 2142, 2248, 352]\n"
     ]
    }
   ],
   "source": [
    "print(second_list)\n",
    "print(num_of_request_per_sec_list)"
   ]
  },
  {
   "cell_type": "code",
   "execution_count": 19,
   "id": "173c028f",
   "metadata": {},
   "outputs": [],
   "source": [
    "num_of_request_per_sec_df = pd.DataFrame([second_list, num_of_request_per_sec_list], index=['second', 'num_of_requests']).T"
   ]
  },
  {
   "cell_type": "code",
   "execution_count": 20,
   "id": "64faf301",
   "metadata": {},
   "outputs": [
    {
     "data": {
      "text/html": [
       "<div>\n",
       "<style scoped>\n",
       "    .dataframe tbody tr th:only-of-type {\n",
       "        vertical-align: middle;\n",
       "    }\n",
       "\n",
       "    .dataframe tbody tr th {\n",
       "        vertical-align: top;\n",
       "    }\n",
       "\n",
       "    .dataframe thead th {\n",
       "        text-align: right;\n",
       "    }\n",
       "</style>\n",
       "<table border=\"1\" class=\"dataframe\">\n",
       "  <thead>\n",
       "    <tr style=\"text-align: right;\">\n",
       "      <th></th>\n",
       "      <th>second</th>\n",
       "      <th>num_of_requests</th>\n",
       "    </tr>\n",
       "  </thead>\n",
       "  <tbody>\n",
       "    <tr>\n",
       "      <th>0</th>\n",
       "      <td>0</td>\n",
       "      <td>1254</td>\n",
       "    </tr>\n",
       "    <tr>\n",
       "      <th>1</th>\n",
       "      <td>1</td>\n",
       "      <td>2188</td>\n",
       "    </tr>\n",
       "    <tr>\n",
       "      <th>2</th>\n",
       "      <td>2</td>\n",
       "      <td>2168</td>\n",
       "    </tr>\n",
       "    <tr>\n",
       "      <th>3</th>\n",
       "      <td>3</td>\n",
       "      <td>2107</td>\n",
       "    </tr>\n",
       "    <tr>\n",
       "      <th>4</th>\n",
       "      <td>4</td>\n",
       "      <td>2160</td>\n",
       "    </tr>\n",
       "    <tr>\n",
       "      <th>...</th>\n",
       "      <td>...</td>\n",
       "      <td>...</td>\n",
       "    </tr>\n",
       "    <tr>\n",
       "      <th>224</th>\n",
       "      <td>224</td>\n",
       "      <td>2175</td>\n",
       "    </tr>\n",
       "    <tr>\n",
       "      <th>225</th>\n",
       "      <td>225</td>\n",
       "      <td>2125</td>\n",
       "    </tr>\n",
       "    <tr>\n",
       "      <th>226</th>\n",
       "      <td>226</td>\n",
       "      <td>2142</td>\n",
       "    </tr>\n",
       "    <tr>\n",
       "      <th>227</th>\n",
       "      <td>227</td>\n",
       "      <td>2248</td>\n",
       "    </tr>\n",
       "    <tr>\n",
       "      <th>228</th>\n",
       "      <td>228</td>\n",
       "      <td>352</td>\n",
       "    </tr>\n",
       "  </tbody>\n",
       "</table>\n",
       "<p>229 rows × 2 columns</p>\n",
       "</div>"
      ],
      "text/plain": [
       "     second  num_of_requests\n",
       "0         0             1254\n",
       "1         1             2188\n",
       "2         2             2168\n",
       "3         3             2107\n",
       "4         4             2160\n",
       "..      ...              ...\n",
       "224     224             2175\n",
       "225     225             2125\n",
       "226     226             2142\n",
       "227     227             2248\n",
       "228     228              352\n",
       "\n",
       "[229 rows x 2 columns]"
      ]
     },
     "execution_count": 20,
     "metadata": {},
     "output_type": "execute_result"
    }
   ],
   "source": [
    "num_of_request_per_sec_df"
   ]
  },
  {
   "cell_type": "code",
   "execution_count": 33,
   "id": "aca87526",
   "metadata": {},
   "outputs": [
    {
     "data": {
      "text/plain": [
       "<AxesSubplot:title={'center':'Throughput Over Time (second)'}, xlabel='second'>"
      ]
     },
     "execution_count": 33,
     "metadata": {},
     "output_type": "execute_result"
    },
    {
     "data": {
      "image/png": "[encoded data removed]",
      "text/plain": [
       "<Figure size 1200x500 with 1 Axes>"
      ]
     },
     "metadata": {},
     "output_type": "display_data"
    }
   ],
   "source": [
    "num_of_request_per_sec_df.plot.line(title = 'Throughput Over Time (second)', x = 'second', y = 'num_of_requests', figsize=(12, 5))"
   ]
  }
 ],
 "metadata": {
  "kernelspec": {
   "display_name": "Python 3 (ipykernel)",
   "language": "python",
   "name": "python3"
  },
  "language_info": {
   "codemirror_mode": {
    "name": "ipython",
    "version": 3
   },
   "file_extension": ".py",
   "mimetype": "text/x-python",
   "name": "python",
   "nbconvert_exporter": "python",
   "pygments_lexer": "ipython3",
   "version": "3.9.13"
  }
 },
 "nbformat": 4,
 "nbformat_minor": 5
}
